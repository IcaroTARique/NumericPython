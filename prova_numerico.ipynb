{
 "cells": [
  {
   "cell_type": "code",
   "execution_count": 3,
   "metadata": {},
   "outputs": [],
   "source": [
    "from __future__ import division\n",
    "from sympy import *\n",
    "import sympy as sp\n",
    "import numpy as np\n",
    "import csv\n",
    "import pandas as pd\n",
    "import matplotlib"
   ]
  },
  {
   "cell_type": "markdown",
   "metadata": {},
   "source": [
    "#### Definindo a função f(x) em Python NUMÉRICO - NUMPY - NP\n",
    "\\begin{equation*}\n",
    "f\\left(x\\right) = sin(x)- x^{2} + 4 \n",
    "\\end{equation*}"
   ]
  },
  {
   "cell_type": "code",
   "execution_count": 4,
   "metadata": {},
   "outputs": [],
   "source": [
    "def f(x): return np.sin(x)-np.square(x)+4"
   ]
  },
  {
   "cell_type": "markdown",
   "metadata": {},
   "source": [
    "#### Definindo a função f(x) em Python SIMBÓLICO - SYMPY - SP\n",
    "\n"
   ]
  },
  {
   "cell_type": "code",
   "execution_count": 5,
   "metadata": {},
   "outputs": [],
   "source": [
    "def sf(x):  return sp.sin(x)-(x**2)+4"
   ]
  },
  {
   "cell_type": "markdown",
   "metadata": {},
   "source": [
    "#### Definindo a função g(x) em Python NUMÉRICO - NUMPY - NP\n",
    "\\begin{equation*}\n",
    "g\\left(x\\right) = sin(x)- e^{x}\n",
    "\\end{equation*}"
   ]
  },
  {
   "cell_type": "code",
   "execution_count": 6,
   "metadata": {},
   "outputs": [],
   "source": [
    "def g(x): return np.exp(x)-np.sin(x)"
   ]
  },
  {
   "cell_type": "markdown",
   "metadata": {},
   "source": [
    "#### Definindo a função g(x) em Python NUMÉRICO - SYMPY - SP"
   ]
  },
  {
   "cell_type": "code",
   "execution_count": 7,
   "metadata": {},
   "outputs": [],
   "source": [
    "def sg(x): return sp.exp(x)-sp.sin(x)"
   ]
  },
  {
   "cell_type": "code",
   "execution_count": 8,
   "metadata": {},
   "outputs": [],
   "source": [
    "x, y = symbols('x y')\n",
    "init_printing()"
   ]
  },
  {
   "cell_type": "markdown",
   "metadata": {},
   "source": [
    "#### Função que Calcula o numero de iterações mínimas\n",
    "\n",
    "\\begin{equation*}\n",
    " \\frac{log(b - a) - log( \\epsilon )}{log(2)}\n",
    "\\end{equation*}"
   ]
  },
  {
   "cell_type": "code",
   "execution_count": 9,
   "metadata": {},
   "outputs": [],
   "source": [
    "def min(a,b): return (np.log10(int_b - int_a) - np.log10(0.001))/np.log10(2)"
   ]
  },
  {
   "cell_type": "markdown",
   "metadata": {},
   "source": [
    "## Método da Bisseção em f(x) e g(x)"
   ]
  },
  {
   "cell_type": "code",
   "execution_count": 10,
   "metadata": {},
   "outputs": [],
   "source": [
    "def bissetion (a, b, f):\n",
    "    k = 0\n",
    "    erro = abs((a - b))\n",
    "    \n",
    "    ### ESCREVE NO CSV\n",
    "    file = open('fx.csv', 'w', newline='')\n",
    "\n",
    "    with file:\n",
    "    \n",
    "        fnames = ['k','a','b','m','f_a','f_b','f_m','b-a']\n",
    "        writer = csv.DictWriter(file, fieldnames=fnames)\n",
    "        writer.writeheader()\n",
    "        \n",
    "        while(erro > 0.001):\n",
    "\n",
    "            erro = abs((b - a))\n",
    "\n",
    "            m = (a + b)/2\n",
    "\n",
    "            ### ESCREVE NO CSV\n",
    "            e = b-a\n",
    "            writer.writerow({'k': k, 'a': a, 'b': b, 'm': m, 'f_a': f(a), 'f_b': f(b), 'f_m': f(m), 'b-a': e})\n",
    "\n",
    "            if(f(m)*f(a) >= 0):\n",
    "                a = m\n",
    "            else:\n",
    "                b = m\n",
    "\n",
    "            k = k+1"
   ]
  },
  {
   "cell_type": "markdown",
   "metadata": {},
   "source": [
    "## Método de Newton-Raphson em f(x) e g(x)"
   ]
  },
  {
   "cell_type": "code",
   "execution_count": 37,
   "metadata": {},
   "outputs": [],
   "source": [
    "def newton_raphson(a, b, f):\n",
    "\n",
    "    val = (a + b)/2\n",
    "    delta = 1\n",
    "\n",
    "    file = open('mn.cvs', 'w', newline='')\n",
    "    with file: \n",
    "        fdata = ['x_k','fx_k','dx_k', 'delta']\n",
    "        writer = csv.DictWriter(file, fieldnames=fdata)\n",
    "        writer.writeheader()    \n",
    "\n",
    "        while(delta > 0.001):\n",
    "            #FAZ A DERIVAÇÃO E APLICA \n",
    "            dif = diff(f(x)).subs(x,val)\n",
    "            func = f(x).subs(x,val)\n",
    "            val_1 = val - (func/dif)\n",
    "            delta = abs(val - val_1)\n",
    "\n",
    "            writer.writerow({'x_k': val,'fx_k': func, 'dx_k': dif, 'delta': delta})\n",
    "\n",
    "            val = val_1"
   ]
  },
  {
   "cell_type": "markdown",
   "metadata": {},
   "source": [
    "# Questão 1\n",
    "\n",
    "#### Para: \n",
    "\\begin{equation*}\n",
    "f\\left(x\\right) = sin(x)- x^{2} + 4 \n",
    "\\end{equation*}\n",
    "\n",
    "Temos que definir o intervalo que queremos analisar para defirir quais são os intervalos onde estão as raízes da função que nos é dada, sendo:\n",
    "\n",
    "**int_a** - O elemento a de [a, b] \n",
    "\n",
    "**int_b** - O elemento b de [a, b]"
   ]
  },
  {
   "cell_type": "code",
   "execution_count": 11,
   "metadata": {},
   "outputs": [
    {
     "name": "stdout",
     "output_type": "stream",
     "text": [
      "f( -5 ) =\t  -20.04107572533686\n",
      "f( -4 ) =\t  -11.243197504692072\n",
      "f( -3 ) =\t  -5.1411200080598665\n",
      "f( -2 ) =\t  -0.9092974268256819\n",
      "f( -1 ) =\t  2.1585290151921033\n",
      "f( 0 ) =\t  4.0\n",
      "f( 1 ) =\t  3.8414709848078967\n",
      "f( 2 ) =\t  0.9092974268256819\n",
      "f( 3 ) =\t  -4.8588799919401335\n",
      "f( 4 ) =\t  -12.756802495307927\n",
      "f( 5 ) =\t  -21.95892427466314\n"
     ]
    }
   ],
   "source": [
    "int_a = -5\n",
    "int_b = 5\n",
    "for i in range(int_a,int_b+1,1):\n",
    "    print(\"f(\",i,\") =\\t \",f(i))"
   ]
  },
  {
   "cell_type": "markdown",
   "metadata": {},
   "source": [
    "### Gráfico "
   ]
  },
  {
   "cell_type": "code",
   "execution_count": 13,
   "metadata": {},
   "outputs": [
    {
     "data": {
      "image/png": "[encoded data removed]",
      "text/plain": [
       "<Figure size 432x288 with 1 Axes>"
      ]
     },
     "metadata": {
      "needs_background": "light"
     },
     "output_type": "display_data"
    },
    {
     "data": {
      "text/plain": [
       "<sympy.plotting.plot.Plot at 0x7f82c92766a0>"
      ]
     },
     "execution_count": 13,
     "metadata": {},
     "output_type": "execute_result"
    }
   ],
   "source": [
    "plot(sf(x),(x,-4,4))\n"
   ]
  },
  {
   "cell_type": "markdown",
   "metadata": {},
   "source": [
    "#### Para: \n",
    "\\begin{equation*}\n",
    "f\\left(x\\right) = sin(x) - e^{x} \n",
    "\\end{equation*}\n",
    "\n",
    "Temos que definir o intervalo que queremos analisar para defirir quais são os intervalos onde estão as raízes da função que nos é dada, sendo:\n",
    "\n",
    "**int_a** - O elemento a de [a, b] \n",
    "\n",
    "**int_b** - O elemento b de [a, b]"
   ]
  },
  {
   "cell_type": "code",
   "execution_count": 14,
   "metadata": {},
   "outputs": [
    {
     "name": "stdout",
     "output_type": "stream",
     "text": [
      "f( -10 ) =\t -0.5439757109596073\n",
      "f( -9 ) =\t 0.4122418950458433\n",
      "f( -8 ) =\t 0.9896937092512843\n",
      "f( -7 ) =\t 0.6578984806843435\n",
      "f( -6 ) =\t -0.2769367460222595\n",
      "f( -5 ) =\t -0.952186327664053\n",
      "f( -4 ) =\t -0.738486856419194\n",
      "f( -3 ) =\t 0.19090707642773116\n",
      "f( -2 ) =\t 1.0446327100622943\n",
      "f( -1 ) =\t 1.2093504259793388\n",
      "f( 0 ) =\t 1.0\n",
      "f( 1 ) =\t 1.8768108436511486\n",
      "f( 2 ) =\t 6.4797586721049685\n",
      "f( 3 ) =\t 19.9444169151278\n",
      "f( 4 ) =\t 55.354952528452166\n",
      "f( 5 ) =\t 149.37208337723973\n"
     ]
    }
   ],
   "source": [
    "int_a = -10\n",
    "int_b = 5\n",
    "for i in range(int_a,int_b+1,1):\n",
    "    print(\"f(\",i,\") =\\t\",g(i))"
   ]
  },
  {
   "cell_type": "markdown",
   "metadata": {},
   "source": [
    "### Gráfico "
   ]
  },
  {
   "cell_type": "code",
   "execution_count": 15,
   "metadata": {},
   "outputs": [
    {
     "data": {
      "image/png": "[encoded data removed]",
      "text/plain": [
       "<Figure size 432x288 with 1 Axes>"
      ]
     },
     "metadata": {
      "needs_background": "light"
     },
     "output_type": "display_data"
    },
    {
     "data": {
      "text/plain": [
       "<sympy.plotting.plot.Plot at 0x7f82df6d94a8>"
      ]
     },
     "execution_count": 15,
     "metadata": {},
     "output_type": "execute_result"
    }
   ],
   "source": [
    "plot(sg(x),(x,-15,2))"
   ]
  },
  {
   "cell_type": "markdown",
   "metadata": {},
   "source": [
    "# Questão 2\n",
    "\n",
    "Para descobir quantas iterações são feitas - PELO MENOS - para achar uma raiz, usamos a seguinte forma\n",
    "\n",
    "\\begin{equation*}\n",
    " k \\geq \\frac{log(b - a) - log( \\epsilon )}{log(2)}\n",
    "\\end{equation*}\n",
    "\n",
    "sendo $\\epsilon$ igual a $0,001$\n",
    "\n",
    "Para tal, definimos o nosso intervalo como sendo:  \n",
    "**int_a** - O elemento a de [a, b] que é considerado o intervalo que contem a raiz\n",
    "\n",
    "**int_b** - O elemento b de [a, b] que é considerado o intervalo que contem a raiz\n",
    "\n",
    "#### Para: \n",
    "\\begin{equation*}\n",
    "f\\left(x\\right) = sin(x)- x^{2} + 4 \n",
    "\\end{equation*}\n"
   ]
  },
  {
   "cell_type": "code",
   "execution_count": 16,
   "metadata": {},
   "outputs": [
    {
     "name": "stdout",
     "output_type": "stream",
     "text": [
      "K de [2,3] 9.965784284662087\n",
      "K de [-2,-1] 9.965784284662087\n"
     ]
    }
   ],
   "source": [
    "int_a = 2\n",
    "int_b = 3\n",
    "\n",
    "k = min(int_a,int_b)\n",
    "print(\"K de [2,3]\",k)\n",
    "\n",
    "int_a = -2\n",
    "int_b = -1\n",
    "k = min(int_a,int_b)\n",
    "print(\"K de [-2,-1]\",k)\n"
   ]
  },
  {
   "cell_type": "markdown",
   "metadata": {},
   "source": [
    "Considera-se portanto que o numero mínimo de iterações é $10$\n",
    "\n",
    "#### Para: \n",
    "\\begin{equation*}\n",
    "f\\left(x\\right) = sin(x) - e^{x} \n",
    "\\end{equation*}\n",
    "\n",
    "fazemos o mesmo processo"
   ]
  },
  {
   "cell_type": "code",
   "execution_count": 17,
   "metadata": {},
   "outputs": [
    {
     "name": "stdout",
     "output_type": "stream",
     "text": [
      "K de [-10,-9] 9.965784284662087\n",
      "K de [-7,-6] 9.965784284662087\n",
      "K de [-4,-3] 9.965784284662087\n"
     ]
    }
   ],
   "source": [
    "int_a = -10\n",
    "int_b = -9\n",
    "\n",
    "k = min(int_a,int_b)\n",
    "print(\"K de [-10,-9]\",k)\n",
    "\n",
    "int_a = -7\n",
    "int_b = -6\n",
    "\n",
    "k = min(int_a,int_b)\n",
    "print(\"K de [-7,-6]\",k)\n",
    "\n",
    "int_a = -4\n",
    "int_b = -3\n",
    "\n",
    "k = min(int_a,int_b)\n",
    "print(\"K de [-4,-3]\",k)"
   ]
  },
  {
   "cell_type": "markdown",
   "metadata": {},
   "source": [
    "# Questão 3\n",
    "\n",
    "### Método da Bisseção\n",
    "\n",
    "Também conhecido como truncamento binário, ou método de Bolzano.\n",
    "Suponha que o intervalo $[a,b]$ contém uma única raiz para $f ( x ) = 0$. O Objetivo é reduzir a amplitude do intervalo que contém a raiz até se atingir a precisão requerida $b − a < \\epsilon = 0,001$, neste caso, usando a divisão sucessiva de $[a,b]$ ao meio.\n",
    "![title](bpic.png)\n",
    "\n",
    "#### Para: \n",
    "\\begin{equation*}\n",
    "f\\left(x\\right) = sin(x)- x^{2} + 4 \n",
    "\\end{equation*}\n",
    "\n",
    "temos:\n"
   ]
  },
  {
   "cell_type": "code",
   "execution_count": 63,
   "metadata": {},
   "outputs": [],
   "source": [
    "int_a = 2\n",
    "int_b = 3\n",
    "bissetion (int_a, int_b, f)"
   ]
  },
  {
   "cell_type": "code",
   "execution_count": 64,
   "metadata": {},
   "outputs": [
    {
     "data": {
      "text/html": [
       "<div>\n",
       "<style scoped>\n",
       "    .dataframe tbody tr th:only-of-type {\n",
       "        vertical-align: middle;\n",
       "    }\n",
       "\n",
       "    .dataframe tbody tr th {\n",
       "        vertical-align: top;\n",
       "    }\n",
       "\n",
       "    .dataframe thead th {\n",
       "        text-align: right;\n",
       "    }\n",
       "</style>\n",
       "<table border=\"1\" class=\"dataframe\">\n",
       "  <thead>\n",
       "    <tr style=\"text-align: right;\">\n",
       "      <th></th>\n",
       "      <th>k</th>\n",
       "      <th>a</th>\n",
       "      <th>b</th>\n",
       "      <th>m</th>\n",
       "      <th>f_a</th>\n",
       "      <th>f_b</th>\n",
       "      <th>f_m</th>\n",
       "      <th>b-a</th>\n",
       "    </tr>\n",
       "  </thead>\n",
       "  <tbody>\n",
       "    <tr>\n",
       "      <th>0</th>\n",
       "      <td>0</td>\n",
       "      <td>2.000000</td>\n",
       "      <td>3.000000</td>\n",
       "      <td>2.500000</td>\n",
       "      <td>0.909297</td>\n",
       "      <td>-4.858880</td>\n",
       "      <td>-1.651528</td>\n",
       "      <td>1.000000</td>\n",
       "    </tr>\n",
       "    <tr>\n",
       "      <th>1</th>\n",
       "      <td>1</td>\n",
       "      <td>2.000000</td>\n",
       "      <td>2.500000</td>\n",
       "      <td>2.250000</td>\n",
       "      <td>0.909297</td>\n",
       "      <td>-1.651528</td>\n",
       "      <td>-0.284427</td>\n",
       "      <td>0.500000</td>\n",
       "    </tr>\n",
       "    <tr>\n",
       "      <th>2</th>\n",
       "      <td>2</td>\n",
       "      <td>2.000000</td>\n",
       "      <td>2.250000</td>\n",
       "      <td>2.125000</td>\n",
       "      <td>0.909297</td>\n",
       "      <td>-0.284427</td>\n",
       "      <td>0.334695</td>\n",
       "      <td>0.250000</td>\n",
       "    </tr>\n",
       "    <tr>\n",
       "      <th>3</th>\n",
       "      <td>3</td>\n",
       "      <td>2.125000</td>\n",
       "      <td>2.250000</td>\n",
       "      <td>2.187500</td>\n",
       "      <td>0.334695</td>\n",
       "      <td>-0.284427</td>\n",
       "      <td>0.030633</td>\n",
       "      <td>0.125000</td>\n",
       "    </tr>\n",
       "    <tr>\n",
       "      <th>4</th>\n",
       "      <td>4</td>\n",
       "      <td>2.187500</td>\n",
       "      <td>2.250000</td>\n",
       "      <td>2.218750</td>\n",
       "      <td>0.030633</td>\n",
       "      <td>-0.284427</td>\n",
       "      <td>-0.125531</td>\n",
       "      <td>0.062500</td>\n",
       "    </tr>\n",
       "    <tr>\n",
       "      <th>5</th>\n",
       "      <td>5</td>\n",
       "      <td>2.187500</td>\n",
       "      <td>2.218750</td>\n",
       "      <td>2.203125</td>\n",
       "      <td>0.030633</td>\n",
       "      <td>-0.125531</td>\n",
       "      <td>-0.047106</td>\n",
       "      <td>0.031250</td>\n",
       "    </tr>\n",
       "    <tr>\n",
       "      <th>6</th>\n",
       "      <td>6</td>\n",
       "      <td>2.187500</td>\n",
       "      <td>2.203125</td>\n",
       "      <td>2.195312</td>\n",
       "      <td>0.030633</td>\n",
       "      <td>-0.047106</td>\n",
       "      <td>-0.008151</td>\n",
       "      <td>0.015625</td>\n",
       "    </tr>\n",
       "    <tr>\n",
       "      <th>7</th>\n",
       "      <td>7</td>\n",
       "      <td>2.187500</td>\n",
       "      <td>2.195312</td>\n",
       "      <td>2.191406</td>\n",
       "      <td>0.030633</td>\n",
       "      <td>-0.008151</td>\n",
       "      <td>0.011263</td>\n",
       "      <td>0.007812</td>\n",
       "    </tr>\n",
       "    <tr>\n",
       "      <th>8</th>\n",
       "      <td>8</td>\n",
       "      <td>2.191406</td>\n",
       "      <td>2.195312</td>\n",
       "      <td>2.193359</td>\n",
       "      <td>0.011263</td>\n",
       "      <td>-0.008151</td>\n",
       "      <td>0.001561</td>\n",
       "      <td>0.003906</td>\n",
       "    </tr>\n",
       "    <tr>\n",
       "      <th>9</th>\n",
       "      <td>9</td>\n",
       "      <td>2.193359</td>\n",
       "      <td>2.195312</td>\n",
       "      <td>2.194336</td>\n",
       "      <td>0.001561</td>\n",
       "      <td>-0.008151</td>\n",
       "      <td>-0.003293</td>\n",
       "      <td>0.001953</td>\n",
       "    </tr>\n",
       "    <tr>\n",
       "      <th>10</th>\n",
       "      <td>10</td>\n",
       "      <td>2.193359</td>\n",
       "      <td>2.194336</td>\n",
       "      <td>2.193848</td>\n",
       "      <td>0.001561</td>\n",
       "      <td>-0.003293</td>\n",
       "      <td>-0.000866</td>\n",
       "      <td>0.000977</td>\n",
       "    </tr>\n",
       "  </tbody>\n",
       "</table>\n",
       "</div>"
      ],
      "text/plain": [
       "     k         a         b         m       f_a       f_b       f_m       b-a\n",
       "0    0  2.000000  3.000000  2.500000  0.909297 -4.858880 -1.651528  1.000000\n",
       "1    1  2.000000  2.500000  2.250000  0.909297 -1.651528 -0.284427  0.500000\n",
       "2    2  2.000000  2.250000  2.125000  0.909297 -0.284427  0.334695  0.250000\n",
       "3    3  2.125000  2.250000  2.187500  0.334695 -0.284427  0.030633  0.125000\n",
       "4    4  2.187500  2.250000  2.218750  0.030633 -0.284427 -0.125531  0.062500\n",
       "5    5  2.187500  2.218750  2.203125  0.030633 -0.125531 -0.047106  0.031250\n",
       "6    6  2.187500  2.203125  2.195312  0.030633 -0.047106 -0.008151  0.015625\n",
       "7    7  2.187500  2.195312  2.191406  0.030633 -0.008151  0.011263  0.007812\n",
       "8    8  2.191406  2.195312  2.193359  0.011263 -0.008151  0.001561  0.003906\n",
       "9    9  2.193359  2.195312  2.194336  0.001561 -0.008151 -0.003293  0.001953\n",
       "10  10  2.193359  2.194336  2.193848  0.001561 -0.003293 -0.000866  0.000977"
      ]
     },
     "execution_count": 64,
     "metadata": {},
     "output_type": "execute_result"
    }
   ],
   "source": [
    "pd.read_csv('fx.csv')"
   ]
  },
  {
   "cell_type": "markdown",
   "metadata": {},
   "source": [
    "\n",
    "#### Para: \n",
    "\\begin{equation*}\n",
    "f\\left(x\\right) = sin(x) - e^{x} \n",
    "\\end{equation*}\n",
    "\n",
    "temos:"
   ]
  },
  {
   "cell_type": "code",
   "execution_count": 67,
   "metadata": {},
   "outputs": [],
   "source": [
    "int_a = -4\n",
    "int_b = -3\n",
    "bissetion (int_a, int_b, g)"
   ]
  },
  {
   "cell_type": "code",
   "execution_count": 68,
   "metadata": {},
   "outputs": [
    {
     "data": {
      "text/html": [
       "<div>\n",
       "<style scoped>\n",
       "    .dataframe tbody tr th:only-of-type {\n",
       "        vertical-align: middle;\n",
       "    }\n",
       "\n",
       "    .dataframe tbody tr th {\n",
       "        vertical-align: top;\n",
       "    }\n",
       "\n",
       "    .dataframe thead th {\n",
       "        text-align: right;\n",
       "    }\n",
       "</style>\n",
       "<table border=\"1\" class=\"dataframe\">\n",
       "  <thead>\n",
       "    <tr style=\"text-align: right;\">\n",
       "      <th></th>\n",
       "      <th>k</th>\n",
       "      <th>a</th>\n",
       "      <th>b</th>\n",
       "      <th>m</th>\n",
       "      <th>f_a</th>\n",
       "      <th>f_b</th>\n",
       "      <th>f_m</th>\n",
       "      <th>b-a</th>\n",
       "    </tr>\n",
       "  </thead>\n",
       "  <tbody>\n",
       "    <tr>\n",
       "      <th>0</th>\n",
       "      <td>0</td>\n",
       "      <td>-4.000000</td>\n",
       "      <td>-3.000000</td>\n",
       "      <td>-3.500000</td>\n",
       "      <td>-0.738487</td>\n",
       "      <td>0.190907</td>\n",
       "      <td>-0.320586</td>\n",
       "      <td>1.000000</td>\n",
       "    </tr>\n",
       "    <tr>\n",
       "      <th>1</th>\n",
       "      <td>1</td>\n",
       "      <td>-3.500000</td>\n",
       "      <td>-3.000000</td>\n",
       "      <td>-3.250000</td>\n",
       "      <td>-0.320586</td>\n",
       "      <td>0.190907</td>\n",
       "      <td>-0.069421</td>\n",
       "      <td>0.500000</td>\n",
       "    </tr>\n",
       "    <tr>\n",
       "      <th>2</th>\n",
       "      <td>2</td>\n",
       "      <td>-3.250000</td>\n",
       "      <td>-3.000000</td>\n",
       "      <td>-3.125000</td>\n",
       "      <td>-0.069421</td>\n",
       "      <td>0.190907</td>\n",
       "      <td>0.060529</td>\n",
       "      <td>0.250000</td>\n",
       "    </tr>\n",
       "    <tr>\n",
       "      <th>3</th>\n",
       "      <td>3</td>\n",
       "      <td>-3.250000</td>\n",
       "      <td>-3.125000</td>\n",
       "      <td>-3.187500</td>\n",
       "      <td>-0.069421</td>\n",
       "      <td>0.060529</td>\n",
       "      <td>-0.004616</td>\n",
       "      <td>0.125000</td>\n",
       "    </tr>\n",
       "    <tr>\n",
       "      <th>4</th>\n",
       "      <td>4</td>\n",
       "      <td>-3.187500</td>\n",
       "      <td>-3.125000</td>\n",
       "      <td>-3.156250</td>\n",
       "      <td>-0.004616</td>\n",
       "      <td>0.060529</td>\n",
       "      <td>0.027928</td>\n",
       "      <td>0.062500</td>\n",
       "    </tr>\n",
       "    <tr>\n",
       "      <th>5</th>\n",
       "      <td>5</td>\n",
       "      <td>-3.187500</td>\n",
       "      <td>-3.156250</td>\n",
       "      <td>-3.171875</td>\n",
       "      <td>-0.004616</td>\n",
       "      <td>0.027928</td>\n",
       "      <td>0.011647</td>\n",
       "      <td>0.031250</td>\n",
       "    </tr>\n",
       "    <tr>\n",
       "      <th>6</th>\n",
       "      <td>6</td>\n",
       "      <td>-3.187500</td>\n",
       "      <td>-3.171875</td>\n",
       "      <td>-3.179688</td>\n",
       "      <td>-0.004616</td>\n",
       "      <td>0.011647</td>\n",
       "      <td>0.003513</td>\n",
       "      <td>0.015625</td>\n",
       "    </tr>\n",
       "    <tr>\n",
       "      <th>7</th>\n",
       "      <td>7</td>\n",
       "      <td>-3.187500</td>\n",
       "      <td>-3.179688</td>\n",
       "      <td>-3.183594</td>\n",
       "      <td>-0.004616</td>\n",
       "      <td>0.003513</td>\n",
       "      <td>-0.000552</td>\n",
       "      <td>0.007812</td>\n",
       "    </tr>\n",
       "    <tr>\n",
       "      <th>8</th>\n",
       "      <td>8</td>\n",
       "      <td>-3.183594</td>\n",
       "      <td>-3.179688</td>\n",
       "      <td>-3.181641</td>\n",
       "      <td>-0.000552</td>\n",
       "      <td>0.003513</td>\n",
       "      <td>0.001480</td>\n",
       "      <td>0.003906</td>\n",
       "    </tr>\n",
       "    <tr>\n",
       "      <th>9</th>\n",
       "      <td>9</td>\n",
       "      <td>-3.183594</td>\n",
       "      <td>-3.181641</td>\n",
       "      <td>-3.182617</td>\n",
       "      <td>-0.000552</td>\n",
       "      <td>0.001480</td>\n",
       "      <td>0.000464</td>\n",
       "      <td>0.001953</td>\n",
       "    </tr>\n",
       "    <tr>\n",
       "      <th>10</th>\n",
       "      <td>10</td>\n",
       "      <td>-3.183594</td>\n",
       "      <td>-3.182617</td>\n",
       "      <td>-3.183105</td>\n",
       "      <td>-0.000552</td>\n",
       "      <td>0.000464</td>\n",
       "      <td>-0.000044</td>\n",
       "      <td>0.000977</td>\n",
       "    </tr>\n",
       "  </tbody>\n",
       "</table>\n",
       "</div>"
      ],
      "text/plain": [
       "     k         a         b         m       f_a       f_b       f_m       b-a\n",
       "0    0 -4.000000 -3.000000 -3.500000 -0.738487  0.190907 -0.320586  1.000000\n",
       "1    1 -3.500000 -3.000000 -3.250000 -0.320586  0.190907 -0.069421  0.500000\n",
       "2    2 -3.250000 -3.000000 -3.125000 -0.069421  0.190907  0.060529  0.250000\n",
       "3    3 -3.250000 -3.125000 -3.187500 -0.069421  0.060529 -0.004616  0.125000\n",
       "4    4 -3.187500 -3.125000 -3.156250 -0.004616  0.060529  0.027928  0.062500\n",
       "5    5 -3.187500 -3.156250 -3.171875 -0.004616  0.027928  0.011647  0.031250\n",
       "6    6 -3.187500 -3.171875 -3.179688 -0.004616  0.011647  0.003513  0.015625\n",
       "7    7 -3.187500 -3.179688 -3.183594 -0.004616  0.003513 -0.000552  0.007812\n",
       "8    8 -3.183594 -3.179688 -3.181641 -0.000552  0.003513  0.001480  0.003906\n",
       "9    9 -3.183594 -3.181641 -3.182617 -0.000552  0.001480  0.000464  0.001953\n",
       "10  10 -3.183594 -3.182617 -3.183105 -0.000552  0.000464 -0.000044  0.000977"
      ]
     },
     "execution_count": 68,
     "metadata": {},
     "output_type": "execute_result"
    }
   ],
   "source": [
    "pd.read_csv('fx.csv')"
   ]
  },
  {
   "cell_type": "markdown",
   "metadata": {},
   "source": [
    "# Questão 4\n",
    "\n",
    "### Método de Newton\n",
    "\n",
    "Processo iterativo de Newton-Raphson é guiado principalmente pela seguinte equação que expressa:\n",
    "\n",
    "$$ x_{k+1} = x_{k} - \\frac{f(x_{k})}{f'(x_{k})} $$\n",
    "\n",
    "A raiz é determinada pela interseção de sucessivas retas tangentes da função em $( p_{k+1} , f ( p_{k+1} ))$ com o\n",
    "eixo $x$. Isto é, partindo de $p_{0}$ , usamos a derivada em $( p_{0} , f ( p_{0} ))$ para determinar a reta tangente que corta o eixo $x$ em $p_{1}$ ; em seguida, usamos a inclinação em $( p_{1} , f( p_{1} ))$ para determinar $p_{2} $; e assim por diante...\n",
    "\n",
    "![title](nh.png)\n",
    "\n",
    "#### Portanto, para: \n",
    "\\begin{equation*}\n",
    "f\\left(x\\right) = sin(x)- x^{2} + 4 \n",
    "\\end{equation*}\n",
    "\n",
    "temos que no intervalo $[2,3]$ que contém uma raiz:\n"
   ]
  },
  {
   "cell_type": "code",
   "execution_count": 40,
   "metadata": {},
   "outputs": [],
   "source": [
    "a = 2\n",
    "b = 3\n",
    "newton_raphson(a, b, sf)"
   ]
  },
  {
   "cell_type": "code",
   "execution_count": 41,
   "metadata": {},
   "outputs": [
    {
     "data": {
      "text/html": [
       "<div>\n",
       "<style scoped>\n",
       "    .dataframe tbody tr th:only-of-type {\n",
       "        vertical-align: middle;\n",
       "    }\n",
       "\n",
       "    .dataframe tbody tr th {\n",
       "        vertical-align: top;\n",
       "    }\n",
       "\n",
       "    .dataframe thead th {\n",
       "        text-align: right;\n",
       "    }\n",
       "</style>\n",
       "<table border=\"1\" class=\"dataframe\">\n",
       "  <thead>\n",
       "    <tr style=\"text-align: right;\">\n",
       "      <th></th>\n",
       "      <th>x_k</th>\n",
       "      <th>fx_k</th>\n",
       "      <th>dx_k</th>\n",
       "      <th>delta</th>\n",
       "    </tr>\n",
       "  </thead>\n",
       "  <tbody>\n",
       "    <tr>\n",
       "      <th>0</th>\n",
       "      <td>2.500000</td>\n",
       "      <td>-1.651528</td>\n",
       "      <td>-5.801144</td>\n",
       "      <td>0.284690</td>\n",
       "    </tr>\n",
       "    <tr>\n",
       "      <th>1</th>\n",
       "      <td>2.215310</td>\n",
       "      <td>-0.108206</td>\n",
       "      <td>-5.031430</td>\n",
       "      <td>0.021506</td>\n",
       "    </tr>\n",
       "    <tr>\n",
       "      <th>2</th>\n",
       "      <td>2.193804</td>\n",
       "      <td>-0.000648</td>\n",
       "      <td>-4.971088</td>\n",
       "      <td>0.000130</td>\n",
       "    </tr>\n",
       "  </tbody>\n",
       "</table>\n",
       "</div>"
      ],
      "text/plain": [
       "        x_k      fx_k      dx_k     delta\n",
       "0  2.500000 -1.651528 -5.801144  0.284690\n",
       "1  2.215310 -0.108206 -5.031430  0.021506\n",
       "2  2.193804 -0.000648 -4.971088  0.000130"
      ]
     },
     "execution_count": 41,
     "metadata": {},
     "output_type": "execute_result"
    }
   ],
   "source": [
    "pd.read_csv('mn.cvs')"
   ]
  },
  {
   "cell_type": "markdown",
   "metadata": {},
   "source": [
    "#### E para: \n",
    "\\begin{equation*}\n",
    "f\\left(x\\right) = sin(x) - e^{x} \n",
    "\\end{equation*}\n",
    "\n",
    "temos que no intervalo $[-4,-3]$ que contém uma raiz:"
   ]
  },
  {
   "cell_type": "code",
   "execution_count": 53,
   "metadata": {},
   "outputs": [],
   "source": [
    "a = -4\n",
    "b = -3\n",
    "newton_raphson(a, b, sg)"
   ]
  },
  {
   "cell_type": "code",
   "execution_count": 54,
   "metadata": {},
   "outputs": [
    {
     "data": {
      "text/html": [
       "<div>\n",
       "<style scoped>\n",
       "    .dataframe tbody tr th:only-of-type {\n",
       "        vertical-align: middle;\n",
       "    }\n",
       "\n",
       "    .dataframe tbody tr th {\n",
       "        vertical-align: top;\n",
       "    }\n",
       "\n",
       "    .dataframe thead th {\n",
       "        text-align: right;\n",
       "    }\n",
       "</style>\n",
       "<table border=\"1\" class=\"dataframe\">\n",
       "  <thead>\n",
       "    <tr style=\"text-align: right;\">\n",
       "      <th></th>\n",
       "      <th>x_k</th>\n",
       "      <th>fx_k</th>\n",
       "      <th>dx_k</th>\n",
       "      <th>delta</th>\n",
       "    </tr>\n",
       "  </thead>\n",
       "  <tbody>\n",
       "    <tr>\n",
       "      <th>0</th>\n",
       "      <td>-3.500000</td>\n",
       "      <td>-0.320586</td>\n",
       "      <td>0.966654</td>\n",
       "      <td>0.331645</td>\n",
       "    </tr>\n",
       "    <tr>\n",
       "      <th>1</th>\n",
       "      <td>-3.168355</td>\n",
       "      <td>0.015313</td>\n",
       "      <td>1.041715</td>\n",
       "      <td>0.014700</td>\n",
       "    </tr>\n",
       "    <tr>\n",
       "      <th>2</th>\n",
       "      <td>-3.183055</td>\n",
       "      <td>0.000008</td>\n",
       "      <td>1.040599</td>\n",
       "      <td>0.000008</td>\n",
       "    </tr>\n",
       "  </tbody>\n",
       "</table>\n",
       "</div>"
      ],
      "text/plain": [
       "        x_k      fx_k      dx_k     delta\n",
       "0 -3.500000 -0.320586  0.966654  0.331645\n",
       "1 -3.168355  0.015313  1.041715  0.014700\n",
       "2 -3.183055  0.000008  1.040599  0.000008"
      ]
     },
     "execution_count": 54,
     "metadata": {},
     "output_type": "execute_result"
    }
   ],
   "source": [
    "pd.read_csv('mn.cvs')"
   ]
  },
  {
   "cell_type": "markdown",
   "metadata": {},
   "source": [
    "# Questão 5 ---- ANULADA ----\n",
    "\n",
    "### Erro Relativo \n",
    "\n",
    "#### Erro absoluto:\n",
    "Diferença entre a valor exato de um número $x$ e o seu valor aproximado $x’$.\n",
    "\n",
    "$$EA_{x} = \\mid{x - x'}\\mid$$\n",
    "\n",
    "#### Erro relativo:\n",
    "\n",
    "Como dependendo das grandezas envolvidas o erro absoluto pode não ser muito significativo, portanto empregamos o erro relativo que é o erro absoluto dividido pelo valor aproximado $x’$:\n",
    "\n",
    "$$ ER_{x} = \\frac{EA_{x}}{x'}$$"
   ]
  },
  {
   "cell_type": "code",
   "execution_count": 78,
   "metadata": {},
   "outputs": [
    {
     "name": "stdout",
     "output_type": "stream",
     "text": [
      "0.030693296515453397 %\n"
     ]
    }
   ],
   "source": [
    "a = 2.193359\n",
    "b = 2.194336\n",
    "#ERRO ABSOLUTO - EA_x\n",
    "erro_abs = abs(b - a)\n",
    "#ERRO RELATIVO - ER_x\n",
    "erro_rel = erro_abs/abs(-3.183105469)\n",
    "\n",
    "print(erro_rel*100,\"%\")"
   ]
  },
  {
   "cell_type": "code",
   "execution_count": null,
   "metadata": {},
   "outputs": [],
   "source": []
  }
 ],
 "metadata": {
  "kernelspec": {
   "display_name": "Python 3",
   "language": "python",
   "name": "python3"
  },
  "language_info": {
   "codemirror_mode": {
    "name": "ipython",
    "version": 3
   },
   "file_extension": ".py",
   "mimetype": "text/x-python",
   "name": "python",
   "nbconvert_exporter": "python",
   "pygments_lexer": "ipython3",
   "version": "3.7.0"
  }
 },
 "nbformat": 4,
 "nbformat_minor": 2
}
